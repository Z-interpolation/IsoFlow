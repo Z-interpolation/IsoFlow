{
 "cells": [
  {
   "cell_type": "markdown",
   "id": "5e9b5a87",
   "metadata": {},
   "source": [

"[![Binder](https://mybinder.org/badge_logo.svg)](https://nbviewer.org/github/Z-interpolation/IsoFlow/blob/main/manual/manual.ipynb)"
   ]
  },
  {
   "cell_type": "markdown",
   "id": "c99f02ed",
   "metadata": {},
   "source": [
    "# IsoFlow User Manual\n",
    "\n",
    "IsoFlow is an image interpolator in the Z domain (considering X and Y the image domains). IsoFlow comes with only one Python module (`linear_OF.py`) which performs linear interpolation between pairs of adjacent images. To minimizing blurring, the optical flow between these images is used."
   ]
  },
  {
   "cell_type": "markdown",
   "id": "12d57709",
   "metadata": {},
   "source": [
    "## Downloading some images\n",
    "This example uses [EMPIAR-10310](https://www.ebi.ac.uk/empiar/EMPIAR-10310/) images."
   ]
  },
  {
   "cell_type": "code",
   "execution_count": 1,
   "id": "387b7035",
   "metadata": {},
   "outputs": [],
   "source": [
    "!rm -f *.tif\n",
    "!rm -f *.png"
   ]
  },
  {
   "cell_type": "code",
   "execution_count": 2,
   "id": "b21e38a6",
   "metadata": {},
   "outputs": [],
   "source": [
    "!wget --no-check-certificate 'https://docs.google.com/uc?export=download&id=1dg54kwqqt-JALrmfDZY2Ayt2cfW4SPxf' -O img_000.tif 2> /dev/null"
   ]
  },
  {
   "cell_type": "code",
   "execution_count": 3,
   "id": "1be55f1f",
   "metadata": {},
   "outputs": [],
   "source": [
    "!wget --no-check-certificate 'https://docs.google.com/uc?export=download&id=1HrrwLUtWBsHZ0AsP8uBgx3YG2eCShoqb' -O img_001.tif 2> /dev/null"
   ]
  },
  {
   "cell_type": "markdown",
   "id": "37ddd0cc",
   "metadata": {},
   "source": [
    "## Interpolating\n",
    "Using default parameters."
   ]
  },
  {
   "cell_type": "code",
   "execution_count": 4,
   "id": "1e804321",
   "metadata": {},
   "outputs": [
    {
     "name": "stdout",
     "output_type": "stream",
     "text": [
      "(INFO) linear_OF: renaming \"./img_001.tif\" to \"./img_002.tif\"\n",
      "(INFO) linear_OF: renaming \"./img_000.tif\" to \"./img_000.tif\"\n",
      "(INFO) linear_OF: reading image \"./img_000.tif\"\n",
      "(INFO) linear_OF: reading image \"./img_002.tif\"\n",
      "(INFO) linear_OF: CPU time = 1.128408541 seconds\n",
      "(INFO) linear_OF: writting image \"./img_001.tif\"\n"
     ]
    }
   ],
   "source": [
    "!python linear_OF.py"
   ]
  },
  {
   "cell_type": "markdown",
   "id": "71c44f60",
   "metadata": {},
   "source": [
    "## Getting help"
   ]
  },
  {
   "cell_type": "code",
   "execution_count": 5,
   "id": "143df649",
   "metadata": {},
   "outputs": [
    {
     "name": "stdout",
     "output_type": "stream",
     "text": [
      "usage: linear_OF.py [-h] [-i IMAGES] [-f INTERPOLATION_FACTOR]\r\n",
      "                    [-n NUMBER_OF_IMAGES]\r\n",
      "\r\n",
      "Linear interpolation using Optical Flow.\r\n",
      "\r\n",
      "options:\r\n",
      "  -h, --help            show this help message and exit\r\n",
      "  -i IMAGES, --images IMAGES\r\n",
      "                        Input images filename template (default:\r\n",
      "                        ./img_%03d.tif)\r\n",
      "  -f INTERPOLATION_FACTOR, --interpolation_factor INTERPOLATION_FACTOR\r\n",
      "                        Interpolation factor (default: 2)\r\n",
      "  -n NUMBER_OF_IMAGES, --number_of_images NUMBER_OF_IMAGES\r\n",
      "                        Number of input images (default: 2)\r\n"
     ]
    }
   ],
   "source": [
    "!python linear_OF.py -h"
   ]
  },
  {
   "cell_type": "markdown",
   "id": "0fdcbbcb",
   "metadata": {},
   "source": [
    "## Results"
   ]
  },
  {
   "cell_type": "code",
   "execution_count": 6,
   "id": "4293586d",
   "metadata": {},
   "outputs": [],
   "source": [
    "# \"animate\" requires imagemagick (https://imagemagick.org)\n",
    "!animate img_00?.tif\n",
    "# Type \"q\" for quiting animate / use \"space\" for pausing"
   ]
  },
  {
   "cell_type": "code",
   "execution_count": 7,
   "id": "71fec166",
   "metadata": {},
   "outputs": [],
   "source": [
    "# \"convert\" requires imagemagick (https://imagemagick.org)\n",
    "!convert img_000.tif img_000.png\n",
    "!convert img_001.tif img_001.png\n",
    "!convert img_002.tif img_002.png"
   ]
  },
  {
   "cell_type": "markdown",
   "id": "799c9d70",
   "metadata": {},
   "source": [
    "### img_000.tif (original image)\n",
    "![img_000.png](./img_000.png \"img_000.png\")"
   ]
  },
  {
   "cell_type": "markdown",
   "id": "87368afb",
   "metadata": {},
   "source": [
    "### img_001.tif (interpolation image)\n",
    "![img_001.png](./img_001.png \"img_001.png\")"
   ]
  },
  {
   "cell_type": "markdown",
   "id": "14dbd2cb",
   "metadata": {},
   "source": [
    "### img_002.tif (original image)\n",
    "![img_002.png](./img_002.png \"img_002.png\")"
   ]
  }
 ],
 "metadata": {
  "kernelspec": {
   "display_name": "Python 3 (ipykernel)",
   "language": "python",
   "name": "python3"
  },
  "language_info": {
   "codemirror_mode": {
    "name": "ipython",
    "version": 3
   },
   "file_extension": ".py",
   "mimetype": "text/x-python",
   "name": "python",
   "nbconvert_exporter": "python",
   "pygments_lexer": "ipython3",
   "version": "3.10.2"
  }
 },
 "nbformat": 4,
 "nbformat_minor": 5
}
